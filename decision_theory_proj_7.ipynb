{
  "nbformat": 4,
  "nbformat_minor": 0,
  "metadata": {
    "colab": {
      "name": "decision_theory_proj_7.ipynb",
      "provenance": [],
      "collapsed_sections": []
    },
    "kernelspec": {
      "name": "python3",
      "display_name": "Python 3"
    }
  },
  "cells": [
    {
      "cell_type": "markdown",
      "metadata": {
        "id": "Q6V2h1Yxx4ft"
      },
      "source": [
        "# Download Csv Dataset "
      ]
    },
    {
      "cell_type": "code",
      "metadata": {
        "colab": {
          "base_uri": "https://localhost:8080/"
        },
        "id": "fqJYTyJNxSGF",
        "outputId": "e5adfc83-3cd1-4382-ce64-a054ac15fca6"
      },
      "source": [
        "negative_url = 'https://gist.githubusercontent.com/ntakouris/ed4770749887873ebf73c86c66d1bf83/raw/856e89a16f831d523d00841d420177ea3c1354be/negative.csv'\r\n",
        "positive_url = 'https://gist.githubusercontent.com/ntakouris/ed4770749887873ebf73c86c66d1bf83/raw/856e89a16f831d523d00841d420177ea3c1354be/positive.csv'\r\n",
        "\r\n",
        "!wget {negative_url} -P /contents \r\n",
        "!wget {positive_url} -P /contents "
      ],
      "execution_count": 2,
      "outputs": [
        {
          "output_type": "stream",
          "text": [
            "--2020-12-29 10:58:49--  https://gist.githubusercontent.com/ntakouris/ed4770749887873ebf73c86c66d1bf83/raw/856e89a16f831d523d00841d420177ea3c1354be/negative.csv\n",
            "Resolving gist.githubusercontent.com (gist.githubusercontent.com)... 151.101.0.133, 151.101.64.133, 151.101.128.133, ...\n",
            "Connecting to gist.githubusercontent.com (gist.githubusercontent.com)|151.101.0.133|:443... connected.\n",
            "HTTP request sent, awaiting response... 200 OK\n",
            "Length: 46831 (46K) [text/plain]\n",
            "Saving to: ‘/contents/negative.csv.1’\n",
            "\n",
            "\rnegative.csv.1        0%[                    ]       0  --.-KB/s               \rnegative.csv.1      100%[===================>]  45.73K  --.-KB/s    in 0.006s  \n",
            "\n",
            "2020-12-29 10:58:49 (7.18 MB/s) - ‘/contents/negative.csv.1’ saved [46831/46831]\n",
            "\n",
            "--2020-12-29 10:58:50--  https://gist.githubusercontent.com/ntakouris/ed4770749887873ebf73c86c66d1bf83/raw/856e89a16f831d523d00841d420177ea3c1354be/positive.csv\n",
            "Resolving gist.githubusercontent.com (gist.githubusercontent.com)... 151.101.0.133, 151.101.64.133, 151.101.128.133, ...\n",
            "Connecting to gist.githubusercontent.com (gist.githubusercontent.com)|151.101.0.133|:443... connected.\n",
            "HTTP request sent, awaiting response... 200 OK\n",
            "Length: 59128 (58K) [text/plain]\n",
            "Saving to: ‘/contents/positive.csv.1’\n",
            "\n",
            "positive.csv.1      100%[===================>]  57.74K  --.-KB/s    in 0.007s  \n",
            "\n",
            "2020-12-29 10:58:50 (7.86 MB/s) - ‘/contents/positive.csv.1’ saved [59128/59128]\n",
            "\n"
          ],
          "name": "stdout"
        }
      ]
    },
    {
      "cell_type": "code",
      "metadata": {
        "colab": {
          "base_uri": "https://localhost:8080/"
        },
        "id": "fnr0rzzXxmVd",
        "outputId": "a4b4a008-c5b1-4f83-997d-f22dd42393d6"
      },
      "source": [
        "!ls /contents"
      ],
      "execution_count": 3,
      "outputs": [
        {
          "output_type": "stream",
          "text": [
            "negative.csv  negative.csv.1  positive.csv  positive.csv.1\n"
          ],
          "name": "stdout"
        }
      ]
    },
    {
      "cell_type": "markdown",
      "metadata": {
        "id": "cMYrlL6qx8SF"
      },
      "source": [
        "# Import Packages and Inspect Dataset"
      ]
    },
    {
      "cell_type": "code",
      "metadata": {
        "id": "g65DOn95xqYt"
      },
      "source": [
        "import nltk\r\n",
        "import tensorflow as tf\r\n",
        "\r\n",
        "import pandas as pd\r\n",
        "import numpy as np\r\n",
        "import matplotlib.pyplot as plt\r\n",
        "\r\n",
        "from tqdm import tqdm\r\n",
        "\r\n",
        "from sklearn.feature_extraction.text import TfidfVectorizer\r\n",
        "\r\n",
        "from nltk.tokenize import word_tokenize\r\n",
        "from nltk.stem import PorterStemmer\r\n",
        "from nltk.corpus import stopwords\r\n",
        "\r\n",
        "from tensorflow.keras import Sequential\r\n",
        "from tensorflow.keras.layers import Dense, LSTM, Dropout, BatchNormalization\r\n",
        "from tensorflow.keras import regularizers\r\n",
        "\r\n",
        "from tensorflow.keras.wrappers.scikit_learn import KerasClassifier\r\n",
        "\r\n",
        "from sklearn.metrics import recall_score, f1_score, precision_score"
      ],
      "execution_count": 4,
      "outputs": []
    },
    {
      "cell_type": "code",
      "metadata": {
        "id": "cHHsmU95yIEn"
      },
      "source": [
        "df_neg = pd.read_csv('/contents/negative.csv')\r\n",
        "df_pos = pd.read_csv('/contents/positive.csv')"
      ],
      "execution_count": 7,
      "outputs": []
    },
    {
      "cell_type": "code",
      "metadata": {
        "colab": {
          "base_uri": "https://localhost:8080/",
          "height": 359
        },
        "id": "7NyjtkC1yQKd",
        "outputId": "14e3fa58-551e-4090-df9b-d5fc4c1ee25f"
      },
      "source": [
        "df_neg.head(10)"
      ],
      "execution_count": 8,
      "outputs": [
        {
          "output_type": "execute_result",
          "data": {
            "text/html": [
              "<div>\n",
              "<style scoped>\n",
              "    .dataframe tbody tr th:only-of-type {\n",
              "        vertical-align: middle;\n",
              "    }\n",
              "\n",
              "    .dataframe tbody tr th {\n",
              "        vertical-align: top;\n",
              "    }\n",
              "\n",
              "    .dataframe thead th {\n",
              "        text-align: right;\n",
              "    }\n",
              "</style>\n",
              "<table border=\"1\" class=\"dataframe\">\n",
              "  <thead>\n",
              "    <tr style=\"text-align: right;\">\n",
              "      <th></th>\n",
              "      <th>ID</th>\n",
              "      <th>Text</th>\n",
              "      <th>Sentiment</th>\n",
              "    </tr>\n",
              "  </thead>\n",
              "  <tbody>\n",
              "    <tr>\n",
              "      <th>0</th>\n",
              "      <td>N1</td>\n",
              "      <td>I've had an IPhone for like 3 years and I've n...</td>\n",
              "      <td>negative</td>\n",
              "    </tr>\n",
              "    <tr>\n",
              "      <th>1</th>\n",
              "      <td>N2</td>\n",
              "      <td>I dont need the new iphone but I want it :(</td>\n",
              "      <td>negative</td>\n",
              "    </tr>\n",
              "    <tr>\n",
              "      <th>2</th>\n",
              "      <td>N3</td>\n",
              "      <td>fuck the iPhone 6s cus I'm not getting one :(</td>\n",
              "      <td>negative</td>\n",
              "    </tr>\n",
              "    <tr>\n",
              "      <th>3</th>\n",
              "      <td>N4</td>\n",
              "      <td>Hopefully will be able to get my iPhone 6s tod...</td>\n",
              "      <td>negative</td>\n",
              "    </tr>\n",
              "    <tr>\n",
              "      <th>4</th>\n",
              "      <td>N5</td>\n",
              "      <td>@clydesdalebank I've just bought a new iPhone ...</td>\n",
              "      <td>negative</td>\n",
              "    </tr>\n",
              "    <tr>\n",
              "      <th>5</th>\n",
              "      <td>N6</td>\n",
              "      <td>The new iphone is out today but mine doesn't c...</td>\n",
              "      <td>negative</td>\n",
              "    </tr>\n",
              "    <tr>\n",
              "      <th>6</th>\n",
              "      <td>N7</td>\n",
              "      <td>Also have to work an iPhone launch at t-mobile :(</td>\n",
              "      <td>negative</td>\n",
              "    </tr>\n",
              "    <tr>\n",
              "      <th>7</th>\n",
              "      <td>N8</td>\n",
              "      <td>@O2 I ended up ringin in my break.. i ordered ...</td>\n",
              "      <td>negative</td>\n",
              "    </tr>\n",
              "    <tr>\n",
              "      <th>8</th>\n",
              "      <td>N9</td>\n",
              "      <td>@reviewero iPhone 5 was the best iPhone ever. ...</td>\n",
              "      <td>negative</td>\n",
              "    </tr>\n",
              "    <tr>\n",
              "      <th>9</th>\n",
              "      <td>N10</td>\n",
              "      <td>@mitsuhiko scared to update to iOS9 as i don't...</td>\n",
              "      <td>negative</td>\n",
              "    </tr>\n",
              "  </tbody>\n",
              "</table>\n",
              "</div>"
            ],
            "text/plain": [
              "    ID                                               Text Sentiment\n",
              "0   N1  I've had an IPhone for like 3 years and I've n...  negative\n",
              "1   N2        I dont need the new iphone but I want it :(  negative\n",
              "2   N3      fuck the iPhone 6s cus I'm not getting one :(  negative\n",
              "3   N4  Hopefully will be able to get my iPhone 6s tod...  negative\n",
              "4   N5  @clydesdalebank I've just bought a new iPhone ...  negative\n",
              "5   N6  The new iphone is out today but mine doesn't c...  negative\n",
              "6   N7  Also have to work an iPhone launch at t-mobile :(  negative\n",
              "7   N8  @O2 I ended up ringin in my break.. i ordered ...  negative\n",
              "8   N9  @reviewero iPhone 5 was the best iPhone ever. ...  negative\n",
              "9  N10  @mitsuhiko scared to update to iOS9 as i don't...  negative"
            ]
          },
          "metadata": {
            "tags": []
          },
          "execution_count": 8
        }
      ]
    },
    {
      "cell_type": "code",
      "metadata": {
        "colab": {
          "base_uri": "https://localhost:8080/",
          "height": 359
        },
        "id": "mt5m2qKTyR2f",
        "outputId": "5538904f-7831-4fef-f4fd-c0a8cd10ae28"
      },
      "source": [
        "df_pos.head(10)"
      ],
      "execution_count": 9,
      "outputs": [
        {
          "output_type": "execute_result",
          "data": {
            "text/html": [
              "<div>\n",
              "<style scoped>\n",
              "    .dataframe tbody tr th:only-of-type {\n",
              "        vertical-align: middle;\n",
              "    }\n",
              "\n",
              "    .dataframe tbody tr th {\n",
              "        vertical-align: top;\n",
              "    }\n",
              "\n",
              "    .dataframe thead th {\n",
              "        text-align: right;\n",
              "    }\n",
              "</style>\n",
              "<table border=\"1\" class=\"dataframe\">\n",
              "  <thead>\n",
              "    <tr style=\"text-align: right;\">\n",
              "      <th></th>\n",
              "      <th>ID</th>\n",
              "      <th>Text</th>\n",
              "      <th>Sentiment</th>\n",
              "    </tr>\n",
              "  </thead>\n",
              "  <tbody>\n",
              "    <tr>\n",
              "      <th>0</th>\n",
              "      <td>P1</td>\n",
              "      <td>Who is ready for iPhone 6s and iPhone 6s Plus?...</td>\n",
              "      <td>positive</td>\n",
              "    </tr>\n",
              "    <tr>\n",
              "      <th>1</th>\n",
              "      <td>P2</td>\n",
              "      <td>@lucy_larkman there are hacks on how to save h...</td>\n",
              "      <td>positive</td>\n",
              "    </tr>\n",
              "    <tr>\n",
              "      <th>2</th>\n",
              "      <td>P3</td>\n",
              "      <td>Hi Rica Cunanan : ricacunanan09 Do u want to g...</td>\n",
              "      <td>positive</td>\n",
              "    </tr>\n",
              "    <tr>\n",
              "      <th>3</th>\n",
              "      <td>P4</td>\n",
              "      <td>Hi Ariane Valentine : mainlyboredom Do u want ...</td>\n",
              "      <td>positive</td>\n",
              "    </tr>\n",
              "    <tr>\n",
              "      <th>4</th>\n",
              "      <td>P5</td>\n",
              "      <td>Hi eastside_crazii : rthompson672 Do u want to...</td>\n",
              "      <td>positive</td>\n",
              "    </tr>\n",
              "    <tr>\n",
              "      <th>5</th>\n",
              "      <td>P6</td>\n",
              "      <td>Hi jayjay : deguzmxnn Do u want to get FREE iP...</td>\n",
              "      <td>positive</td>\n",
              "    </tr>\n",
              "    <tr>\n",
              "      <th>6</th>\n",
              "      <td>P7</td>\n",
              "      <td>Hi childish colbino  : _Colbae Do u want to ge...</td>\n",
              "      <td>positive</td>\n",
              "    </tr>\n",
              "    <tr>\n",
              "      <th>7</th>\n",
              "      <td>P8</td>\n",
              "      <td>Hi ~~~TS~~~ : urminreflection Do u want to get...</td>\n",
              "      <td>positive</td>\n",
              "    </tr>\n",
              "    <tr>\n",
              "      <th>8</th>\n",
              "      <td>P9</td>\n",
              "      <td>Hi LBY : AlbyPlays Do u want to get FREE iPhon...</td>\n",
              "      <td>positive</td>\n",
              "    </tr>\n",
              "    <tr>\n",
              "      <th>9</th>\n",
              "      <td>P10</td>\n",
              "      <td>Hi angel : pinedo_angel13 Do u want to get FRE...</td>\n",
              "      <td>positive</td>\n",
              "    </tr>\n",
              "  </tbody>\n",
              "</table>\n",
              "</div>"
            ],
            "text/plain": [
              "    ID                                               Text Sentiment\n",
              "0   P1  Who is ready for iPhone 6s and iPhone 6s Plus?...  positive\n",
              "1   P2  @lucy_larkman there are hacks on how to save h...  positive\n",
              "2   P3  Hi Rica Cunanan : ricacunanan09 Do u want to g...  positive\n",
              "3   P4  Hi Ariane Valentine : mainlyboredom Do u want ...  positive\n",
              "4   P5  Hi eastside_crazii : rthompson672 Do u want to...  positive\n",
              "5   P6  Hi jayjay : deguzmxnn Do u want to get FREE iP...  positive\n",
              "6   P7  Hi childish colbino  : _Colbae Do u want to ge...  positive\n",
              "7   P8  Hi ~~~TS~~~ : urminreflection Do u want to get...  positive\n",
              "8   P9  Hi LBY : AlbyPlays Do u want to get FREE iPhon...  positive\n",
              "9  P10  Hi angel : pinedo_angel13 Do u want to get FRE...  positive"
            ]
          },
          "metadata": {
            "tags": []
          },
          "execution_count": 9
        }
      ]
    },
    {
      "cell_type": "code",
      "metadata": {
        "colab": {
          "base_uri": "https://localhost:8080/"
        },
        "id": "oGedRAz1yTXd",
        "outputId": "4b5a3e8c-1636-42c4-d0d7-213fabc331ba"
      },
      "source": [
        "ds_neg = df_neg['Text'].values\r\n",
        "ds_neg = np.stack([ds_neg, np.zeros_like(ds_neg)], axis=1)\r\n",
        "\r\n",
        "ds_pos = df_pos['Text'].values\r\n",
        "ds_pos = np.stack([ds_pos, np.ones_like(ds_pos)], axis=1)\r\n",
        "\r\n",
        "# array col 0 is text and col 1 is label (0 for negative, 1 for positive)\r\n",
        "ds_neg[0], ds_neg.shape, ds_pos[0], ds_neg.shape"
      ],
      "execution_count": 10,
      "outputs": [
        {
          "output_type": "execute_result",
          "data": {
            "text/plain": [
              "(array([\"I've had an IPhone for like 3 years and I've never done that  :( hate ma life\",\n",
              "        0], dtype=object),\n",
              " (501, 2),\n",
              " array(['Who is ready for iPhone 6s and iPhone 6s Plus? I know I am :)', 1],\n",
              "       dtype=object),\n",
              " (501, 2))"
            ]
          },
          "metadata": {
            "tags": []
          },
          "execution_count": 10
        }
      ]
    },
    {
      "cell_type": "code",
      "metadata": {
        "colab": {
          "base_uri": "https://localhost:8080/"
        },
        "id": "5r7IEEGXzhMV",
        "outputId": "e64fc877-1106-4f29-f394-e482862e3ef5"
      },
      "source": [
        "dataset = np.vstack([ds_neg, ds_pos])\r\n",
        "dataset.shape"
      ],
      "execution_count": 11,
      "outputs": [
        {
          "output_type": "execute_result",
          "data": {
            "text/plain": [
              "(1002, 2)"
            ]
          },
          "metadata": {
            "tags": []
          },
          "execution_count": 11
        }
      ]
    },
    {
      "cell_type": "markdown",
      "metadata": {
        "id": "GnVy9JiZzpoH"
      },
      "source": [
        "# Preprocessing"
      ]
    },
    {
      "cell_type": "code",
      "metadata": {
        "colab": {
          "base_uri": "https://localhost:8080/"
        },
        "id": "l2FO7A9j1AWr",
        "outputId": "012c0299-9b75-4ad0-8489-cd707547a48a"
      },
      "source": [
        "nltk.download('punkt')\r\n",
        "nltk.download('stopwords')"
      ],
      "execution_count": 13,
      "outputs": [
        {
          "output_type": "stream",
          "text": [
            "[nltk_data] Downloading package punkt to /root/nltk_data...\n",
            "[nltk_data]   Package punkt is already up-to-date!\n",
            "[nltk_data] Downloading package stopwords to /root/nltk_data...\n",
            "[nltk_data]   Package stopwords is already up-to-date!\n"
          ],
          "name": "stdout"
        },
        {
          "output_type": "execute_result",
          "data": {
            "text/plain": [
              "True"
            ]
          },
          "metadata": {
            "tags": []
          },
          "execution_count": 13
        }
      ]
    },
    {
      "cell_type": "code",
      "metadata": {
        "colab": {
          "base_uri": "https://localhost:8080/"
        },
        "id": "9S5tJT4szlj3",
        "outputId": "da7ac473-b8c9-4fda-94f6-176ffa9d5506"
      },
      "source": [
        "sentences = dataset[:, 0]\r\n",
        "labels = dataset[:, 1].astype('float')\r\n",
        "\r\n",
        "stemmer = PorterStemmer()\r\n",
        "stop_words = set(stopwords.words('english'))\r\n",
        "\r\n",
        "tokens = []\r\n",
        "\r\n",
        "print('Tokenizing, Stemming, Removing Stopwords')\r\n",
        "print()\r\n",
        "for i, sentence in enumerate(tqdm(sentences)):\r\n",
        "    tokens = word_tokenize(sentence)\r\n",
        "    stemmed = [stemmer.stem(x) for x in tokens]\r\n",
        "    t = [w for w in stemmed if w not in stop_words]\r\n",
        "\r\n",
        "    sentences[i] = ' '.join(t)\r\n",
        "    tokens.append(t)\r\n",
        "\r\n",
        "print()\r\n",
        "print('Calculating Tfidf')\r\n",
        "vectorizer = TfidfVectorizer()\r\n",
        "X = vectorizer.fit_transform(sentences).astype('float')\r\n",
        "\r\n",
        "train_test_limit = int(0.75 * X.shape[0])\r\n",
        "X_test = X[train_test_limit:]\r\n",
        "X = X[:train_test_limit]\r\n",
        "\r\n",
        "y_test = labels[train_test_limit:]\r\n",
        "y = labels[:train_test_limit]"
      ],
      "execution_count": 15,
      "outputs": [
        {
          "output_type": "stream",
          "text": [
            " 29%|██▉       | 289/1002 [00:00<00:00, 2888.16it/s]"
          ],
          "name": "stderr"
        },
        {
          "output_type": "stream",
          "text": [
            "Tokenizing, Stemming, Removing Stopwords\n",
            "\n"
          ],
          "name": "stdout"
        },
        {
          "output_type": "stream",
          "text": [
            "100%|██████████| 1002/1002 [00:00<00:00, 2340.68it/s]"
          ],
          "name": "stderr"
        },
        {
          "output_type": "stream",
          "text": [
            "\n",
            "Calculating Tfidf\n"
          ],
          "name": "stdout"
        },
        {
          "output_type": "stream",
          "text": [
            "\n"
          ],
          "name": "stderr"
        }
      ]
    },
    {
      "cell_type": "markdown",
      "metadata": {
        "id": "xUASgB2bzrMp"
      },
      "source": [
        "# Build and Train Model"
      ]
    },
    {
      "cell_type": "code",
      "metadata": {
        "colab": {
          "base_uri": "https://localhost:8080/"
        },
        "id": "PDVlFmb_0Huf",
        "outputId": "989edbd1-77d7-43be-eaad-9668308bde9a"
      },
      "source": [
        "def get_model():\r\n",
        "    wd = 1e-5\r\n",
        "    model = Sequential()\r\n",
        "    model.add(Dense(64, input_dim=X.shape[1], activation='relu', kernel_regularizer=regularizers.l2(wd),\r\n",
        "                activity_regularizer=regularizers.l2(wd)))\r\n",
        "    model.add(Dense(32, activation='relu', kernel_regularizer=regularizers.l2(wd),\r\n",
        "                activity_regularizer=regularizers.l2(wd)))\r\n",
        "    model.add(Dense(1, activation='sigmoid'))\r\n",
        "    model.compile(loss='binary_crossentropy', optimizer='adamax', metrics=['binary_accuracy']) \r\n",
        "\r\n",
        "    return model\r\n",
        "\r\n",
        "clf = KerasClassifier(build_fn=get_model)\r\n",
        "history = clf.fit(X.toarray(), y, validation_data=(X_test.toarray(), y_test), epochs=20, batch_size=32, shuffle=True)"
      ],
      "execution_count": 54,
      "outputs": [
        {
          "output_type": "stream",
          "text": [
            "Epoch 1/20\n",
            "24/24 [==============================] - 1s 13ms/step - loss: 0.6839 - binary_accuracy: 0.6920 - val_loss: 0.7276 - val_binary_accuracy: 0.0000e+00\n",
            "Epoch 2/20\n",
            "24/24 [==============================] - 0s 5ms/step - loss: 0.6436 - binary_accuracy: 0.6942 - val_loss: 0.7265 - val_binary_accuracy: 0.5777\n",
            "Epoch 3/20\n",
            "24/24 [==============================] - 0s 6ms/step - loss: 0.5934 - binary_accuracy: 0.8469 - val_loss: 0.7103 - val_binary_accuracy: 0.7570\n",
            "Epoch 4/20\n",
            "24/24 [==============================] - 0s 6ms/step - loss: 0.5078 - binary_accuracy: 0.9068 - val_loss: 0.6969 - val_binary_accuracy: 0.7570\n",
            "Epoch 5/20\n",
            "24/24 [==============================] - 0s 5ms/step - loss: 0.4487 - binary_accuracy: 0.8809 - val_loss: 0.6722 - val_binary_accuracy: 0.7570\n",
            "Epoch 6/20\n",
            "24/24 [==============================] - 0s 6ms/step - loss: 0.3615 - binary_accuracy: 0.9124 - val_loss: 0.6360 - val_binary_accuracy: 0.7570\n",
            "Epoch 7/20\n",
            "24/24 [==============================] - 0s 6ms/step - loss: 0.3042 - binary_accuracy: 0.9082 - val_loss: 0.5876 - val_binary_accuracy: 0.7570\n",
            "Epoch 8/20\n",
            "24/24 [==============================] - 0s 6ms/step - loss: 0.2744 - binary_accuracy: 0.9034 - val_loss: 0.5314 - val_binary_accuracy: 0.7570\n",
            "Epoch 9/20\n",
            "24/24 [==============================] - 0s 5ms/step - loss: 0.2398 - binary_accuracy: 0.9077 - val_loss: 0.4979 - val_binary_accuracy: 0.7570\n",
            "Epoch 10/20\n",
            "24/24 [==============================] - 0s 5ms/step - loss: 0.2054 - binary_accuracy: 0.9177 - val_loss: 0.4747 - val_binary_accuracy: 0.7570\n",
            "Epoch 11/20\n",
            "24/24 [==============================] - 0s 6ms/step - loss: 0.2024 - binary_accuracy: 0.9077 - val_loss: 0.4503 - val_binary_accuracy: 0.7610\n",
            "Epoch 12/20\n",
            "24/24 [==============================] - 0s 6ms/step - loss: 0.1729 - binary_accuracy: 0.9240 - val_loss: 0.4456 - val_binary_accuracy: 0.7649\n",
            "Epoch 13/20\n",
            "24/24 [==============================] - 0s 6ms/step - loss: 0.1589 - binary_accuracy: 0.9289 - val_loss: 0.4340 - val_binary_accuracy: 0.7769\n",
            "Epoch 14/20\n",
            "24/24 [==============================] - 0s 6ms/step - loss: 0.1551 - binary_accuracy: 0.9449 - val_loss: 0.4242 - val_binary_accuracy: 0.7769\n",
            "Epoch 15/20\n",
            "24/24 [==============================] - 0s 6ms/step - loss: 0.1357 - binary_accuracy: 0.9483 - val_loss: 0.4140 - val_binary_accuracy: 0.7888\n",
            "Epoch 16/20\n",
            "24/24 [==============================] - 0s 6ms/step - loss: 0.1226 - binary_accuracy: 0.9564 - val_loss: 0.4273 - val_binary_accuracy: 0.7928\n",
            "Epoch 17/20\n",
            "24/24 [==============================] - 0s 6ms/step - loss: 0.0786 - binary_accuracy: 0.9865 - val_loss: 0.4225 - val_binary_accuracy: 0.7928\n",
            "Epoch 18/20\n",
            "24/24 [==============================] - 0s 7ms/step - loss: 0.0909 - binary_accuracy: 0.9746 - val_loss: 0.4143 - val_binary_accuracy: 0.7928\n",
            "Epoch 19/20\n",
            "24/24 [==============================] - 0s 6ms/step - loss: 0.0901 - binary_accuracy: 0.9803 - val_loss: 0.4316 - val_binary_accuracy: 0.7928\n",
            "Epoch 20/20\n",
            "24/24 [==============================] - 0s 5ms/step - loss: 0.0748 - binary_accuracy: 0.9811 - val_loss: 0.4213 - val_binary_accuracy: 0.7928\n"
          ],
          "name": "stdout"
        }
      ]
    },
    {
      "cell_type": "markdown",
      "metadata": {
        "id": "bB26MTDS1jzj"
      },
      "source": [
        "# Result Visualization"
      ]
    },
    {
      "cell_type": "code",
      "metadata": {
        "colab": {
          "base_uri": "https://localhost:8080/",
          "height": 573
        },
        "id": "qaRxLCB61iku",
        "outputId": "0b6a0015-bebe-4d75-bdc4-a97eb0a5dcce"
      },
      "source": [
        "# Plot training & validation binary accuracy values\r\n",
        "plt.plot(history.history['binary_accuracy'])\r\n",
        "plt.plot(history.history['val_binary_accuracy'])\r\n",
        "plt.title('Model accuracy')\r\n",
        "plt.ylabel('Accuracy')\r\n",
        "plt.xlabel('Epoch')\r\n",
        "plt.legend(['Train', 'Validation'], loc='upper left')\r\n",
        "plt.show()\r\n",
        "\r\n",
        "# Plot training & validation loss values\r\n",
        "plt.plot(history.history['loss'])\r\n",
        "plt.plot(history.history['val_loss'])\r\n",
        "plt.title('Model loss')\r\n",
        "plt.ylabel('Loss')\r\n",
        "plt.xlabel('Epoch')\r\n",
        "plt.legend(['Train', 'Validation'], loc='upper left')\r\n",
        "plt.show()"
      ],
      "execution_count": 55,
      "outputs": [
        {
          "output_type": "display_data",
          "data": {
            "image/png": "[encoded data removed]",
            "text/plain": [
              "<Figure size 432x288 with 1 Axes>"
            ]
          },
          "metadata": {
            "tags": [],
            "needs_background": "light"
          }
        },
        {
          "output_type": "display_data",
          "data": {
            "image/png": "[encoded data removed]",
            "text/plain": [
              "<Figure size 432x288 with 1 Axes>"
            ]
          },
          "metadata": {
            "tags": [],
            "needs_background": "light"
          }
        }
      ]
    }
  ]
}